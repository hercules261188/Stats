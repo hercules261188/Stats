{
  "nbformat": 4,
  "nbformat_minor": 0,
  "metadata": {
    "kernelspec": {
      "display_name": "Python 3 (ipykernel)",
      "language": "python",
      "name": "python3"
    },
    "language_info": {
      "codemirror_mode": {
        "name": "ipython",
        "version": 3
      },
      "file_extension": ".py",
      "mimetype": "text/x-python",
      "name": "python",
      "nbconvert_exporter": "python",
      "pygments_lexer": "ipython3",
      "version": "3.7.3"
    },
    "colab": {
      "name": "Outliers.ipynb",
      "provenance": []
    }
  },
  "cells": [
    {
      "cell_type": "markdown",
      "metadata": {
        "id": "Q-BghAHcDmAz"
      },
      "source": [
        "## Standard Deviation"
      ]
    },
    {
      "cell_type": "code",
      "metadata": {
        "id": "J_qJkDofDmA0"
      },
      "source": [
        "import numpy as np\n",
        "import matplotlib.pyplot as plt\n",
        "import statistics"
      ],
      "execution_count": 1,
      "outputs": []
    },
    {
      "cell_type": "code",
      "metadata": {
        "colab": {
          "base_uri": "https://localhost:8080/"
        },
        "id": "PmaZjy6iDmA1",
        "outputId": "08368f7f-a12a-4f44-f635-7f86d0b21b1c"
      },
      "source": [
        "# multiply and add by random numbers to get some real values\n",
        "data = np.random.randn(50000)  * 20 + 20\n",
        "\n",
        "data"
      ],
      "execution_count": 2,
      "outputs": [
        {
          "output_type": "execute_result",
          "data": {
            "text/plain": [
              "array([ 48.69524342, -32.58372973,  21.70609659, ...,  36.44980703,\n",
              "        36.45366808,  13.27764507])"
            ]
          },
          "metadata": {
            "tags": []
          },
          "execution_count": 2
        }
      ]
    },
    {
      "cell_type": "code",
      "metadata": {
        "id": "fUM_wjV0DmA2"
      },
      "source": [
        "# Function to Detection Outlier on one-dimentional datasets.\n",
        "def find_anomalies(data):\n",
        "    #define a list to accumlate anomalies\n",
        "    anomalies = []\n",
        "    \n",
        "    # Set upper and lower limit to 3 standard deviation\n",
        "    random_data_std = statistics.stdev(data)\n",
        "    random_data_mean = statistics.mean(data)\n",
        "    # 3-standard deviation\n",
        "    \n",
        "    anomaly_cut_off = random_data_std * 3\n",
        "    \n",
        "    lower_limit  = random_data_mean - anomaly_cut_off \n",
        "    upper_limit = random_data_mean + anomaly_cut_off\n",
        "    \n",
        "    # Generate outliers\n",
        "    for outlier in data:\n",
        "        if outlier > upper_limit or outlier < lower_limit:\n",
        "            anomalies.append(outlier)\n",
        "    return anomalies"
      ],
      "execution_count": 5,
      "outputs": []
    },
    {
      "cell_type": "code",
      "metadata": {
        "colab": {
          "base_uri": "https://localhost:8080/"
        },
        "id": "PLuvJncpDmA2",
        "outputId": "0f67eb55-b1c0-4b7b-ee58-63de33d5f4b8"
      },
      "source": [
        "data"
      ],
      "execution_count": 6,
      "outputs": [
        {
          "output_type": "execute_result",
          "data": {
            "text/plain": [
              "array([ 48.69524342, -32.58372973,  21.70609659, ...,  36.44980703,\n",
              "        36.45366808,  13.27764507])"
            ]
          },
          "metadata": {
            "tags": []
          },
          "execution_count": 6
        }
      ]
    },
    {
      "cell_type": "code",
      "metadata": {
        "colab": {
          "base_uri": "https://localhost:8080/"
        },
        "id": "wZuBLU81DmA2",
        "outputId": "6ef43862-8b51-460a-ebab-8f095fc3a2c8"
      },
      "source": [
        "find_anomalies(data)"
      ],
      "execution_count": 7,
      "outputs": [
        {
          "output_type": "execute_result",
          "data": {
            "text/plain": [
              "[83.60316268712899,\n",
              " -49.89516154088723,\n",
              " 81.466170890759,\n",
              " -40.466473827617946,\n",
              " 87.38687915144138,\n",
              " -42.901340534631835,\n",
              " 82.89479840413662,\n",
              " 87.6130397741851,\n",
              " -45.865252926885034,\n",
              " 88.16410404257009,\n",
              " -54.32267525346565,\n",
              " -46.43451703031508,\n",
              " 85.86035704982903,\n",
              " -44.37193668806309,\n",
              " -47.84206873902801,\n",
              " -43.31395058301807,\n",
              " 89.21773223284895,\n",
              " 89.64567540382788,\n",
              " 92.84907434258412,\n",
              " -57.96009710010378,\n",
              " -41.826687045305626,\n",
              " 98.32795953466923,\n",
              " -43.849045946265946,\n",
              " 80.41794188161525,\n",
              " 84.04554688033298,\n",
              " 80.29328913842707,\n",
              " -53.13401658839989,\n",
              " 93.05923817668298,\n",
              " 81.75684435569045,\n",
              " -44.62028161193564,\n",
              " 81.45114822083764,\n",
              " 86.8716090986319,\n",
              " 86.3900255814332,\n",
              " 89.90502633468746,\n",
              " -46.09496745739236,\n",
              " -40.534840653714184,\n",
              " -43.71496099820186,\n",
              " 88.42600565916906,\n",
              " 82.63069227580836,\n",
              " 93.67985125633098,\n",
              " 98.02014814593782,\n",
              " -51.430524396692704,\n",
              " 83.92546770278292,\n",
              " 84.44366365231605,\n",
              " -52.696565820494556,\n",
              " 87.52819424979162,\n",
              " -41.8603634149111,\n",
              " -47.09003081959628,\n",
              " -41.40080652802009,\n",
              " -43.777595538467736,\n",
              " -46.61184151224718,\n",
              " -44.415457648037545,\n",
              " -41.41714400327176,\n",
              " -49.24722763619174,\n",
              " 81.18466958113483,\n",
              " -41.574387764904216,\n",
              " 86.02660340477235,\n",
              " 87.50128543177199,\n",
              " 80.58380212633764,\n",
              " 82.78072008917859,\n",
              " 86.0746065105858,\n",
              " 82.09990762225996,\n",
              " 81.44888675054355,\n",
              " -47.76864459363918,\n",
              " -40.784096123800204,\n",
              " 81.44328103470491,\n",
              " -45.03746389365125,\n",
              " 85.76567602568775,\n",
              " -45.365312557789906,\n",
              " -41.05859288064546,\n",
              " 88.4331478810648,\n",
              " 82.32439205363204,\n",
              " 80.85966321974843,\n",
              " 82.26097541945984,\n",
              " 85.56461659134928,\n",
              " 88.90437765088765,\n",
              " 97.97469789725977,\n",
              " 86.4030272613281,\n",
              " 88.72147465711329,\n",
              " -47.10919342589146,\n",
              " 80.59545935341123,\n",
              " 80.60209867146352,\n",
              " 80.24533562926298,\n",
              " 80.64117483746696,\n",
              " 90.01582538886906,\n",
              " 83.61079702877393,\n",
              " -46.04087617023497,\n",
              " 85.60823063862755,\n",
              " -54.27018721880428,\n",
              " 88.52612392420622,\n",
              " -47.755821017627724,\n",
              " -43.58930771362825,\n",
              " 83.48868577758805,\n",
              " -40.560095193090476,\n",
              " 99.94393003335834,\n",
              " -40.12961527667109,\n",
              " -42.80965356002679,\n",
              " 85.52970653875737,\n",
              " -43.65475815678593,\n",
              " 80.30862539000276,\n",
              " -44.98122502169505,\n",
              " 85.36371986691097,\n",
              " 98.78427541956992,\n",
              " 80.48647700528355,\n",
              " 82.50655644366913,\n",
              " -43.57921229832634,\n",
              " -42.79427565430153,\n",
              " -40.30947824263847,\n",
              " 80.27926633430027,\n",
              " 98.5011241909319,\n",
              " 80.20488611292828,\n",
              " -39.97228137583911,\n",
              " 87.06457702540553,\n",
              " -42.577021745976786,\n",
              " 103.13654215836378,\n",
              " -45.85789235977592,\n",
              " -43.014614668881194,\n",
              " -47.831893918951735,\n",
              " 87.57537060229441,\n",
              " -43.83700359413872,\n",
              " -42.37143756705769,\n",
              " -47.90023536513118,\n",
              " 80.47510527358284,\n",
              " 81.35096836359753,\n",
              " -53.84509451755659,\n",
              " -43.687708702156975,\n",
              " -41.15319915606438,\n",
              " -41.62816758135002,\n",
              " -44.51299828029448,\n",
              " 80.56293992957185,\n",
              " 83.61935331889471,\n",
              " -42.345175568097375,\n",
              " 83.73940253022525,\n",
              " 89.44695160265086,\n",
              " 84.12857810247294,\n",
              " 80.1619270306949,\n",
              " -50.02806570202125,\n",
              " -54.73090691240482,\n",
              " 80.55178638803639,\n",
              " -52.196805834354194,\n",
              " -41.89633838672012,\n",
              " 82.53993092300898,\n",
              " -66.57141765247101,\n",
              " -40.98776421459753]"
            ]
          },
          "metadata": {
            "tags": []
          },
          "execution_count": 7
        }
      ]
    },
    {
      "cell_type": "markdown",
      "metadata": {
        "id": "pDT2BCpPDmA3"
      },
      "source": [
        "- Anything below 40, or above 80 are considered as outliers"
      ]
    },
    {
      "cell_type": "markdown",
      "metadata": {
        "id": "mTyy5cUdDmA3"
      },
      "source": [
        "## Boxplots"
      ]
    },
    {
      "cell_type": "code",
      "metadata": {
        "colab": {
          "base_uri": "https://localhost:8080/",
          "height": 282
        },
        "id": "XmIZLyqiDmA3",
        "outputId": "d01cac4c-845b-47ac-fd7e-52c8805863fd"
      },
      "source": [
        "import seaborn as sns\n",
        "import matplotlib.pyplot as plt\n",
        "\n",
        "sns.boxplot(data=data)"
      ],
      "execution_count": 8,
      "outputs": [
        {
          "output_type": "execute_result",
          "data": {
            "text/plain": [
              "<matplotlib.axes._subplots.AxesSubplot at 0x7f1f707490d0>"
            ]
          },
          "metadata": {
            "tags": []
          },
          "execution_count": 8
        },
        {
          "output_type": "display_data",
          "data": {
            "image/png": "[encoded data removed]",
            "text/plain": [
              "<Figure size 432x288 with 1 Axes>"
            ]
          },
          "metadata": {
            "tags": [],
            "needs_background": "light"
          }
        }
      ]
    },
    {
      "cell_type": "markdown",
      "metadata": {
        "id": "7H_O0wRSDmA4"
      },
      "source": [
        "The above code displays the plot below. \n",
        "- As you can see, it considers everything above 75 or below ~ -35 to be an outlier. The results are very close to method 1 above."
      ]
    },
    {
      "cell_type": "code",
      "metadata": {
        "id": "1ucMcakhDmA4"
      },
      "source": [
        "import pandas as pd\n",
        "\n",
        "df = pd.DataFrame(data)"
      ],
      "execution_count": 9,
      "outputs": []
    },
    {
      "cell_type": "code",
      "metadata": {
        "colab": {
          "base_uri": "https://localhost:8080/"
        },
        "id": "43tBqhDGDmA4",
        "outputId": "061c6829-c2ff-46d8-acaf-f1a7c41b939d"
      },
      "source": [
        "len(df)"
      ],
      "execution_count": 10,
      "outputs": [
        {
          "output_type": "execute_result",
          "data": {
            "text/plain": [
              "50000"
            ]
          },
          "metadata": {
            "tags": []
          },
          "execution_count": 10
        }
      ]
    },
    {
      "cell_type": "code",
      "metadata": {
        "id": "lCkfUl4_DmA5",
        "outputId": "a0331ebf-5c8a-4fbc-fce6-92afefbc6e4a"
      },
      "source": [
        "df"
      ],
      "execution_count": null,
      "outputs": [
        {
          "output_type": "execute_result",
          "data": {
            "text/html": [
              "<div>\n",
              "<style scoped>\n",
              "    .dataframe tbody tr th:only-of-type {\n",
              "        vertical-align: middle;\n",
              "    }\n",
              "\n",
              "    .dataframe tbody tr th {\n",
              "        vertical-align: top;\n",
              "    }\n",
              "\n",
              "    .dataframe thead th {\n",
              "        text-align: right;\n",
              "    }\n",
              "</style>\n",
              "<table border=\"1\" class=\"dataframe\">\n",
              "  <thead>\n",
              "    <tr style=\"text-align: right;\">\n",
              "      <th></th>\n",
              "      <th>0</th>\n",
              "    </tr>\n",
              "  </thead>\n",
              "  <tbody>\n",
              "    <tr>\n",
              "      <th>0</th>\n",
              "      <td>33.853454</td>\n",
              "    </tr>\n",
              "    <tr>\n",
              "      <th>1</th>\n",
              "      <td>11.277569</td>\n",
              "    </tr>\n",
              "    <tr>\n",
              "      <th>2</th>\n",
              "      <td>-13.428209</td>\n",
              "    </tr>\n",
              "    <tr>\n",
              "      <th>3</th>\n",
              "      <td>16.890713</td>\n",
              "    </tr>\n",
              "    <tr>\n",
              "      <th>4</th>\n",
              "      <td>19.322594</td>\n",
              "    </tr>\n",
              "    <tr>\n",
              "      <th>...</th>\n",
              "      <td>...</td>\n",
              "    </tr>\n",
              "    <tr>\n",
              "      <th>49995</th>\n",
              "      <td>23.980485</td>\n",
              "    </tr>\n",
              "    <tr>\n",
              "      <th>49996</th>\n",
              "      <td>-7.322970</td>\n",
              "    </tr>\n",
              "    <tr>\n",
              "      <th>49997</th>\n",
              "      <td>-3.501161</td>\n",
              "    </tr>\n",
              "    <tr>\n",
              "      <th>49998</th>\n",
              "      <td>-23.156144</td>\n",
              "    </tr>\n",
              "    <tr>\n",
              "      <th>49999</th>\n",
              "      <td>-7.283698</td>\n",
              "    </tr>\n",
              "  </tbody>\n",
              "</table>\n",
              "<p>50000 rows × 1 columns</p>\n",
              "</div>"
            ],
            "text/plain": [
              "               0\n",
              "0      33.853454\n",
              "1      11.277569\n",
              "2     -13.428209\n",
              "3      16.890713\n",
              "4      19.322594\n",
              "...          ...\n",
              "49995  23.980485\n",
              "49996  -7.322970\n",
              "49997  -3.501161\n",
              "49998 -23.156144\n",
              "49999  -7.283698\n",
              "\n",
              "[50000 rows x 1 columns]"
            ]
          },
          "metadata": {
            "tags": []
          },
          "execution_count": 15
        }
      ]
    },
    {
      "cell_type": "code",
      "metadata": {
        "colab": {
          "base_uri": "https://localhost:8080/",
          "height": 297
        },
        "id": "6apv-20bDmA5",
        "outputId": "2564982e-96e3-4101-81b9-d39c7d37f49b"
      },
      "source": [
        "# Statistical information of the dataframe columns\n",
        "\n",
        "df.describe()"
      ],
      "execution_count": 11,
      "outputs": [
        {
          "output_type": "execute_result",
          "data": {
            "text/html": [
              "<div>\n",
              "<style scoped>\n",
              "    .dataframe tbody tr th:only-of-type {\n",
              "        vertical-align: middle;\n",
              "    }\n",
              "\n",
              "    .dataframe tbody tr th {\n",
              "        vertical-align: top;\n",
              "    }\n",
              "\n",
              "    .dataframe thead th {\n",
              "        text-align: right;\n",
              "    }\n",
              "</style>\n",
              "<table border=\"1\" class=\"dataframe\">\n",
              "  <thead>\n",
              "    <tr style=\"text-align: right;\">\n",
              "      <th></th>\n",
              "      <th>0</th>\n",
              "    </tr>\n",
              "  </thead>\n",
              "  <tbody>\n",
              "    <tr>\n",
              "      <th>count</th>\n",
              "      <td>50000.000000</td>\n",
              "    </tr>\n",
              "    <tr>\n",
              "      <th>mean</th>\n",
              "      <td>20.040529</td>\n",
              "    </tr>\n",
              "    <tr>\n",
              "      <th>std</th>\n",
              "      <td>19.978568</td>\n",
              "    </tr>\n",
              "    <tr>\n",
              "      <th>min</th>\n",
              "      <td>-66.571418</td>\n",
              "    </tr>\n",
              "    <tr>\n",
              "      <th>25%</th>\n",
              "      <td>6.619267</td>\n",
              "    </tr>\n",
              "    <tr>\n",
              "      <th>50%</th>\n",
              "      <td>19.996118</td>\n",
              "    </tr>\n",
              "    <tr>\n",
              "      <th>75%</th>\n",
              "      <td>33.565718</td>\n",
              "    </tr>\n",
              "    <tr>\n",
              "      <th>max</th>\n",
              "      <td>103.136542</td>\n",
              "    </tr>\n",
              "  </tbody>\n",
              "</table>\n",
              "</div>"
            ],
            "text/plain": [
              "                  0\n",
              "count  50000.000000\n",
              "mean      20.040529\n",
              "std       19.978568\n",
              "min      -66.571418\n",
              "25%        6.619267\n",
              "50%       19.996118\n",
              "75%       33.565718\n",
              "max      103.136542"
            ]
          },
          "metadata": {
            "tags": []
          },
          "execution_count": 11
        }
      ]
    },
    {
      "cell_type": "markdown",
      "metadata": {
        "id": "3pjjdH_UDmA6"
      },
      "source": [
        "![image.png](attachment:image.png)"
      ]
    },
    {
      "cell_type": "markdown",
      "metadata": {
        "id": "g3FrIugGDmA6"
      },
      "source": [
        "### Inter Quartile Range\n",
        "\n",
        "#### IQR - Q3 - Q1"
      ]
    },
    {
      "cell_type": "code",
      "metadata": {
        "id": "cED7vRuHDmA6"
      },
      "source": [
        "list1 = [43, 54, 56, 61, 62, 66, 68, 69, 69, 70, 71, 72, 77, 78, 79, 85, 87, 88, 89, 93, 95, 96, 98, 99, 99]"
      ],
      "execution_count": 12,
      "outputs": []
    },
    {
      "cell_type": "code",
      "metadata": {
        "id": "i8ZOdGDPDmA7",
        "outputId": "fbdab773-bff5-4c26-a9b5-cbed20f5bed9"
      },
      "source": [
        "len(list1)"
      ],
      "execution_count": null,
      "outputs": [
        {
          "output_type": "execute_result",
          "data": {
            "text/plain": [
              "25"
            ]
          },
          "metadata": {
            "tags": []
          },
          "execution_count": 18
        }
      ]
    },
    {
      "cell_type": "code",
      "metadata": {
        "colab": {
          "base_uri": "https://localhost:8080/"
        },
        "id": "2gYLgpWcDmA7",
        "outputId": "e9584589-17e7-4f58-eca4-bc4155b35792"
      },
      "source": [
        "max(list1)"
      ],
      "execution_count": 13,
      "outputs": [
        {
          "output_type": "execute_result",
          "data": {
            "text/plain": [
              "99"
            ]
          },
          "metadata": {
            "tags": []
          },
          "execution_count": 13
        }
      ]
    },
    {
      "cell_type": "code",
      "metadata": {
        "colab": {
          "base_uri": "https://localhost:8080/"
        },
        "id": "Qxygvte0DmA8",
        "outputId": "dc3eb093-e56f-47a0-a357-468f8990d249"
      },
      "source": [
        "min(list1)"
      ],
      "execution_count": 14,
      "outputs": [
        {
          "output_type": "execute_result",
          "data": {
            "text/plain": [
              "43"
            ]
          },
          "metadata": {
            "tags": []
          },
          "execution_count": 14
        }
      ]
    },
    {
      "cell_type": "code",
      "metadata": {
        "colab": {
          "base_uri": "https://localhost:8080/"
        },
        "id": "CIjMWVD_DmA9",
        "outputId": "026f7a44-774b-4815-bf2d-bbff128688bc"
      },
      "source": [
        "import statistics \n",
        "\n",
        "statistics.mean(list1)"
      ],
      "execution_count": 15,
      "outputs": [
        {
          "output_type": "execute_result",
          "data": {
            "text/plain": [
              "76.96"
            ]
          },
          "metadata": {
            "tags": []
          },
          "execution_count": 15
        }
      ]
    },
    {
      "cell_type": "code",
      "metadata": {
        "colab": {
          "base_uri": "https://localhost:8080/"
        },
        "id": "1Ck5XHQmOdJ5",
        "outputId": "8efc6d75-c1e1-48b6-e978-2d0be4303ab4"
      },
      "source": [
        "sorted(list1)"
      ],
      "execution_count": 17,
      "outputs": [
        {
          "output_type": "execute_result",
          "data": {
            "text/plain": [
              "[43,\n",
              " 54,\n",
              " 56,\n",
              " 61,\n",
              " 62,\n",
              " 66,\n",
              " 68,\n",
              " 69,\n",
              " 69,\n",
              " 70,\n",
              " 71,\n",
              " 72,\n",
              " 77,\n",
              " 78,\n",
              " 79,\n",
              " 85,\n",
              " 87,\n",
              " 88,\n",
              " 89,\n",
              " 93,\n",
              " 95,\n",
              " 96,\n",
              " 98,\n",
              " 99,\n",
              " 99]"
            ]
          },
          "metadata": {
            "tags": []
          },
          "execution_count": 17
        }
      ]
    },
    {
      "cell_type": "markdown",
      "metadata": {
        "id": "93XqsXRyDmA9"
      },
      "source": [
        "To find the 90th percentile for these (ordered) scores, start by multiplying 90 percent times the total number of scores, which gives 90% ∗ 25 = 0.90 ∗ 25 = 22.5 (the index). Rounding up to the nearest whole number, you get 23."
      ]
    },
    {
      "cell_type": "code",
      "metadata": {
        "id": "-JdQ8O0yDmA-"
      },
      "source": [
        "list2 = sorted(list1)"
      ],
      "execution_count": null,
      "outputs": []
    },
    {
      "cell_type": "code",
      "metadata": {
        "id": "OP_JNzxKDmA-",
        "outputId": "a6c23ca2-d99e-4eb4-fa78-d1953496c382"
      },
      "source": [
        "list2"
      ],
      "execution_count": null,
      "outputs": [
        {
          "output_type": "execute_result",
          "data": {
            "text/plain": [
              "[43,\n",
              " 54,\n",
              " 56,\n",
              " 61,\n",
              " 62,\n",
              " 66,\n",
              " 68,\n",
              " 69,\n",
              " 69,\n",
              " 70,\n",
              " 71,\n",
              " 72,\n",
              " 77,\n",
              " 78,\n",
              " 79,\n",
              " 85,\n",
              " 87,\n",
              " 88,\n",
              " 89,\n",
              " 93,\n",
              " 95,\n",
              " 96,\n",
              " 98,\n",
              " 99,\n",
              " 99]"
            ]
          },
          "metadata": {
            "tags": []
          },
          "execution_count": 24
        }
      ]
    },
    {
      "cell_type": "markdown",
      "metadata": {
        "id": "_L0nGbWiDmA-"
      },
      "source": [
        "Hence, 98 is the 90th percentile for this dataset"
      ]
    },
    {
      "cell_type": "markdown",
      "metadata": {
        "id": "zfdmWfsqDmA_"
      },
      "source": [
        "Now say you want to find the 20th percentile. Start by taking 0.20 x 25 = 5 (the index); this is a whole number, which tells you the 20th percentile is the average of the 5th and 6th values in the ordered data set (62 and 66)."
      ]
    },
    {
      "cell_type": "markdown",
      "metadata": {
        "id": "gKQGrc_aDmA_"
      },
      "source": [
        "so, 20th percentile is 62+66/2 = 64"
      ]
    },
    {
      "cell_type": "markdown",
      "metadata": {
        "id": "JY8zsiM5DmA_"
      },
      "source": [
        "The median (the 50th percentile) for the test scores is the 13th score: 77."
      ]
    },
    {
      "cell_type": "markdown",
      "metadata": {
        "id": "GP4k-TtGDmA_"
      },
      "source": [
        "## Clustering Techniques"
      ]
    }
  ]
}