{
  "nbformat": 4,
  "nbformat_minor": 0,
  "metadata": {
    "kernelspec": {
      "display_name": "Python 3",
      "language": "python",
      "name": "python3"
    },
    "language_info": {
      "codemirror_mode": {
        "name": "ipython",
        "version": 3
      },
      "file_extension": ".py",
      "mimetype": "text/x-python",
      "name": "python",
      "nbconvert_exporter": "python",
      "pygments_lexer": "ipython3",
      "version": "3.7.3"
    },
    "colab": {
      "name": "Central Tendency.ipynb",
      "provenance": []
    }
  },
  "cells": [
    {
      "cell_type": "markdown",
      "metadata": {
        "id": "mFdm52TjDlUP"
      },
      "source": [
        "## Mean, Median & Mode"
      ]
    },
    {
      "cell_type": "code",
      "metadata": {
        "id": "3D1zWfRwDlUQ"
      },
      "source": [
        "import statistics"
      ],
      "execution_count": 1,
      "outputs": []
    },
    {
      "cell_type": "code",
      "metadata": {
        "id": "CLIYpU2VDlUQ"
      },
      "source": [
        "list1 = [43, 54, 56, 61, 62, 66, 68, 69, 69, 70, 71, 72, 77, 78, 79, 85, 87, 88, 89, 93, 95, 96, 98, 99, 99]"
      ],
      "execution_count": 2,
      "outputs": []
    },
    {
      "cell_type": "code",
      "metadata": {
        "colab": {
          "base_uri": "https://localhost:8080/"
        },
        "id": "ooP1DXcaDlUR",
        "outputId": "4448d076-e862-4563-a47b-3fe5b2f63b8d"
      },
      "source": [
        "len(list1)"
      ],
      "execution_count": 3,
      "outputs": [
        {
          "output_type": "execute_result",
          "data": {
            "text/plain": [
              "25"
            ]
          },
          "metadata": {
            "tags": []
          },
          "execution_count": 3
        }
      ]
    },
    {
      "cell_type": "code",
      "metadata": {
        "colab": {
          "base_uri": "https://localhost:8080/"
        },
        "id": "kbzOtZa5DlUS",
        "outputId": "cf694182-e710-484c-98b9-ae1cbc88d308"
      },
      "source": [
        "list1"
      ],
      "execution_count": 4,
      "outputs": [
        {
          "output_type": "execute_result",
          "data": {
            "text/plain": [
              "[43,\n",
              " 54,\n",
              " 56,\n",
              " 61,\n",
              " 62,\n",
              " 66,\n",
              " 68,\n",
              " 69,\n",
              " 69,\n",
              " 70,\n",
              " 71,\n",
              " 72,\n",
              " 77,\n",
              " 78,\n",
              " 79,\n",
              " 85,\n",
              " 87,\n",
              " 88,\n",
              " 89,\n",
              " 93,\n",
              " 95,\n",
              " 96,\n",
              " 98,\n",
              " 99,\n",
              " 99]"
            ]
          },
          "metadata": {
            "tags": []
          },
          "execution_count": 4
        }
      ]
    },
    {
      "cell_type": "code",
      "metadata": {
        "colab": {
          "base_uri": "https://localhost:8080/"
        },
        "id": "EKGsqp8mDlUS",
        "outputId": "658ad12b-549d-436d-8e3e-20833710c638"
      },
      "source": [
        "list2 = sorted(list1)\n",
        "list2"
      ],
      "execution_count": 6,
      "outputs": [
        {
          "output_type": "execute_result",
          "data": {
            "text/plain": [
              "[43,\n",
              " 54,\n",
              " 56,\n",
              " 61,\n",
              " 62,\n",
              " 66,\n",
              " 68,\n",
              " 69,\n",
              " 69,\n",
              " 70,\n",
              " 71,\n",
              " 72,\n",
              " 77,\n",
              " 78,\n",
              " 79,\n",
              " 85,\n",
              " 87,\n",
              " 88,\n",
              " 89,\n",
              " 93,\n",
              " 95,\n",
              " 96,\n",
              " 98,\n",
              " 99,\n",
              " 99]"
            ]
          },
          "metadata": {
            "tags": []
          },
          "execution_count": 6
        }
      ]
    },
    {
      "cell_type": "code",
      "metadata": {
        "colab": {
          "base_uri": "https://localhost:8080/"
        },
        "id": "MkBwdm_BDlUS",
        "outputId": "42c23215-1db4-444a-9910-86c11e510ec7"
      },
      "source": [
        "statistics.mean(list2)"
      ],
      "execution_count": 7,
      "outputs": [
        {
          "output_type": "execute_result",
          "data": {
            "text/plain": [
              "76.96"
            ]
          },
          "metadata": {
            "tags": []
          },
          "execution_count": 7
        }
      ]
    },
    {
      "cell_type": "code",
      "metadata": {
        "id": "w-oKYdKRDlUT",
        "outputId": "619cf80d-cb07-43cb-ed94-0e5d62812275"
      },
      "source": [
        "list2"
      ],
      "execution_count": null,
      "outputs": [
        {
          "output_type": "execute_result",
          "data": {
            "text/plain": [
              "[43,\n",
              " 54,\n",
              " 56,\n",
              " 61,\n",
              " 62,\n",
              " 66,\n",
              " 68,\n",
              " 69,\n",
              " 69,\n",
              " 70,\n",
              " 71,\n",
              " 72,\n",
              " 77,\n",
              " 78,\n",
              " 79,\n",
              " 85,\n",
              " 87,\n",
              " 88,\n",
              " 89,\n",
              " 93,\n",
              " 95,\n",
              " 96,\n",
              " 98,\n",
              " 99,\n",
              " 99]"
            ]
          },
          "metadata": {
            "tags": []
          },
          "execution_count": 17
        }
      ]
    },
    {
      "cell_type": "code",
      "metadata": {
        "colab": {
          "base_uri": "https://localhost:8080/"
        },
        "id": "yTIbO_cGDlUT",
        "outputId": "9d481fdd-c09f-4df4-e947-f29817bb1760"
      },
      "source": [
        "statistics.median(list2)"
      ],
      "execution_count": 8,
      "outputs": [
        {
          "output_type": "execute_result",
          "data": {
            "text/plain": [
              "77"
            ]
          },
          "metadata": {
            "tags": []
          },
          "execution_count": 8
        }
      ]
    },
    {
      "cell_type": "code",
      "metadata": {
        "id": "_d3NMLeTDlUU"
      },
      "source": [
        "list2 = ['F','F','F','M','M']"
      ],
      "execution_count": 9,
      "outputs": []
    },
    {
      "cell_type": "code",
      "metadata": {
        "colab": {
          "base_uri": "https://localhost:8080/",
          "height": 35
        },
        "id": "sCO94n_HDlUV",
        "outputId": "2f0928d4-0f07-4ea4-822b-6ee329e83fed"
      },
      "source": [
        "statistics.mode(list2)"
      ],
      "execution_count": 10,
      "outputs": [
        {
          "output_type": "execute_result",
          "data": {
            "application/vnd.google.colaboratory.intrinsic+json": {
              "type": "string"
            },
            "text/plain": [
              "'F'"
            ]
          },
          "metadata": {
            "tags": []
          },
          "execution_count": 10
        }
      ]
    },
    {
      "cell_type": "code",
      "metadata": {
        "id": "TmWXDy9nDlUW"
      },
      "source": [
        "list2 = ['F','F','F','M','M','M']"
      ],
      "execution_count": 11,
      "outputs": []
    },
    {
      "cell_type": "code",
      "metadata": {
        "colab": {
          "base_uri": "https://localhost:8080/",
          "height": 291
        },
        "id": "Dj6B5qJ2DlUW",
        "outputId": "ec682d6d-bffa-4e5f-fe1a-bb69b5888c58"
      },
      "source": [
        "statistics.mode(list2)"
      ],
      "execution_count": 12,
      "outputs": [
        {
          "output_type": "error",
          "ename": "StatisticsError",
          "evalue": "ignored",
          "traceback": [
            "\u001b[0;31m---------------------------------------------------------------------------\u001b[0m",
            "\u001b[0;31mStatisticsError\u001b[0m                           Traceback (most recent call last)",
            "\u001b[0;32m<ipython-input-12-841d985347ef>\u001b[0m in \u001b[0;36m<module>\u001b[0;34m()\u001b[0m\n\u001b[0;32m----> 1\u001b[0;31m \u001b[0mstatistics\u001b[0m\u001b[0;34m.\u001b[0m\u001b[0mmode\u001b[0m\u001b[0;34m(\u001b[0m\u001b[0mlist2\u001b[0m\u001b[0;34m)\u001b[0m\u001b[0;34m\u001b[0m\u001b[0;34m\u001b[0m\u001b[0m\n\u001b[0m",
            "\u001b[0;32m/usr/lib/python3.7/statistics.py\u001b[0m in \u001b[0;36mmode\u001b[0;34m(data)\u001b[0m\n\u001b[1;32m    504\u001b[0m     \u001b[0;32melif\u001b[0m \u001b[0mtable\u001b[0m\u001b[0;34m:\u001b[0m\u001b[0;34m\u001b[0m\u001b[0;34m\u001b[0m\u001b[0m\n\u001b[1;32m    505\u001b[0m         raise StatisticsError(\n\u001b[0;32m--> 506\u001b[0;31m                 \u001b[0;34m'no unique mode; found %d equally common values'\u001b[0m \u001b[0;34m%\u001b[0m \u001b[0mlen\u001b[0m\u001b[0;34m(\u001b[0m\u001b[0mtable\u001b[0m\u001b[0;34m)\u001b[0m\u001b[0;34m\u001b[0m\u001b[0;34m\u001b[0m\u001b[0m\n\u001b[0m\u001b[1;32m    507\u001b[0m                 )\n\u001b[1;32m    508\u001b[0m     \u001b[0;32melse\u001b[0m\u001b[0;34m:\u001b[0m\u001b[0;34m\u001b[0m\u001b[0;34m\u001b[0m\u001b[0m\n",
            "\u001b[0;31mStatisticsError\u001b[0m: no unique mode; found 2 equally common values"
          ]
        }
      ]
    },
    {
      "cell_type": "code",
      "metadata": {
        "id": "TFHDpoWPDlUX"
      },
      "source": [
        ""
      ],
      "execution_count": null,
      "outputs": []
    }
  ]
}