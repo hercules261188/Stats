{
  "nbformat": 4,
  "nbformat_minor": 0,
  "metadata": {
    "colab": {
      "name": "Stats Part II - Handle Skewness, Kurtosis etc.ipynb",
      "provenance": [],
      "collapsed_sections": []
    },
    "kernelspec": {
      "name": "python3",
      "display_name": "Python 3"
    },
    "language_info": {
      "name": "python"
    }
  },
  "cells": [
    {
      "cell_type": "code",
      "metadata": {
        "id": "bo6v5CqFsj42"
      },
      "source": [
        "import pandas as pd\n",
        "import numpy as np"
      ],
      "execution_count": null,
      "outputs": []
    },
    {
      "cell_type": "code",
      "metadata": {
        "colab": {
          "base_uri": "https://localhost:8080/"
        },
        "id": "YOW5m8_1ASi9",
        "outputId": "459ede7a-e93e-43f2-fbe4-9495633d49b5"
      },
      "source": [
        "from google.colab import drive\n",
        "drive.mount('/content/drive')"
      ],
      "execution_count": null,
      "outputs": [
        {
          "output_type": "stream",
          "text": [
            "Mounted at /content/drive\n"
          ],
          "name": "stdout"
        }
      ]
    },
    {
      "cell_type": "code",
      "metadata": {
        "id": "UOKaMsGyAVBV"
      },
      "source": [
        "data = pd.read_csv('/content/drive/MyDrive/Stats/cars_datasets.csv')"
      ],
      "execution_count": null,
      "outputs": []
    },
    {
      "cell_type": "code",
      "metadata": {
        "colab": {
          "base_uri": "https://localhost:8080/",
          "height": 292
        },
        "id": "reO-SjOSAylK",
        "outputId": "599c42e4-e757-402f-dd35-4a1826b60f2a"
      },
      "source": [
        "data.head()"
      ],
      "execution_count": null,
      "outputs": [
        {
          "output_type": "execute_result",
          "data": {
            "text/html": [
              "<div>\n",
              "<style scoped>\n",
              "    .dataframe tbody tr th:only-of-type {\n",
              "        vertical-align: middle;\n",
              "    }\n",
              "\n",
              "    .dataframe tbody tr th {\n",
              "        vertical-align: top;\n",
              "    }\n",
              "\n",
              "    .dataframe thead th {\n",
              "        text-align: right;\n",
              "    }\n",
              "</style>\n",
              "<table border=\"1\" class=\"dataframe\">\n",
              "  <thead>\n",
              "    <tr style=\"text-align: right;\">\n",
              "      <th></th>\n",
              "      <th>Unnamed: 0</th>\n",
              "      <th>price</th>\n",
              "      <th>brand</th>\n",
              "      <th>model</th>\n",
              "      <th>year</th>\n",
              "      <th>title_status</th>\n",
              "      <th>mileage</th>\n",
              "      <th>color</th>\n",
              "      <th>vin</th>\n",
              "      <th>lot</th>\n",
              "      <th>state</th>\n",
              "      <th>country</th>\n",
              "      <th>condition</th>\n",
              "    </tr>\n",
              "  </thead>\n",
              "  <tbody>\n",
              "    <tr>\n",
              "      <th>0</th>\n",
              "      <td>0</td>\n",
              "      <td>6300</td>\n",
              "      <td>toyota</td>\n",
              "      <td>cruiser</td>\n",
              "      <td>2008</td>\n",
              "      <td>clean vehicle</td>\n",
              "      <td>274117.0</td>\n",
              "      <td>black</td>\n",
              "      <td>jtezu11f88k007763</td>\n",
              "      <td>159348797</td>\n",
              "      <td>new jersey</td>\n",
              "      <td>usa</td>\n",
              "      <td>10 days left</td>\n",
              "    </tr>\n",
              "    <tr>\n",
              "      <th>1</th>\n",
              "      <td>1</td>\n",
              "      <td>2899</td>\n",
              "      <td>ford</td>\n",
              "      <td>se</td>\n",
              "      <td>2011</td>\n",
              "      <td>clean vehicle</td>\n",
              "      <td>190552.0</td>\n",
              "      <td>silver</td>\n",
              "      <td>2fmdk3gc4bbb02217</td>\n",
              "      <td>166951262</td>\n",
              "      <td>tennessee</td>\n",
              "      <td>usa</td>\n",
              "      <td>6 days left</td>\n",
              "    </tr>\n",
              "    <tr>\n",
              "      <th>2</th>\n",
              "      <td>2</td>\n",
              "      <td>5350</td>\n",
              "      <td>dodge</td>\n",
              "      <td>mpv</td>\n",
              "      <td>2018</td>\n",
              "      <td>clean vehicle</td>\n",
              "      <td>39590.0</td>\n",
              "      <td>silver</td>\n",
              "      <td>3c4pdcgg5jt346413</td>\n",
              "      <td>167655728</td>\n",
              "      <td>georgia</td>\n",
              "      <td>usa</td>\n",
              "      <td>2 days left</td>\n",
              "    </tr>\n",
              "    <tr>\n",
              "      <th>3</th>\n",
              "      <td>3</td>\n",
              "      <td>25000</td>\n",
              "      <td>ford</td>\n",
              "      <td>door</td>\n",
              "      <td>2014</td>\n",
              "      <td>clean vehicle</td>\n",
              "      <td>64146.0</td>\n",
              "      <td>blue</td>\n",
              "      <td>1ftfw1et4efc23745</td>\n",
              "      <td>167753855</td>\n",
              "      <td>virginia</td>\n",
              "      <td>usa</td>\n",
              "      <td>22 hours left</td>\n",
              "    </tr>\n",
              "    <tr>\n",
              "      <th>4</th>\n",
              "      <td>4</td>\n",
              "      <td>27700</td>\n",
              "      <td>chevrolet</td>\n",
              "      <td>1500</td>\n",
              "      <td>2018</td>\n",
              "      <td>clean vehicle</td>\n",
              "      <td>6654.0</td>\n",
              "      <td>red</td>\n",
              "      <td>3gcpcrec2jg473991</td>\n",
              "      <td>167763266</td>\n",
              "      <td>florida</td>\n",
              "      <td>usa</td>\n",
              "      <td>22 hours left</td>\n",
              "    </tr>\n",
              "  </tbody>\n",
              "</table>\n",
              "</div>"
            ],
            "text/plain": [
              "   Unnamed: 0  price      brand  ...       state  country      condition\n",
              "0           0   6300     toyota  ...  new jersey      usa   10 days left\n",
              "1           1   2899       ford  ...   tennessee      usa    6 days left\n",
              "2           2   5350      dodge  ...     georgia      usa    2 days left\n",
              "3           3  25000       ford  ...    virginia      usa  22 hours left\n",
              "4           4  27700  chevrolet  ...     florida      usa  22 hours left\n",
              "\n",
              "[5 rows x 13 columns]"
            ]
          },
          "metadata": {
            "tags": []
          },
          "execution_count": 13
        }
      ]
    },
    {
      "cell_type": "code",
      "metadata": {
        "id": "NPFJR4vPA-qs"
      },
      "source": [
        "#Removing the unnamed: 0 column\n",
        "\n",
        "data = data.drop(['Unnamed: 0'], axis = 1)"
      ],
      "execution_count": null,
      "outputs": []
    },
    {
      "cell_type": "code",
      "metadata": {
        "colab": {
          "base_uri": "https://localhost:8080/"
        },
        "id": "KstYu2WRBBrm",
        "outputId": "49fce5c9-0aff-4917-f150-2c2e638b291a"
      },
      "source": [
        "#Exploring the dataset information\n",
        "\n",
        "data.info()"
      ],
      "execution_count": null,
      "outputs": [
        {
          "output_type": "stream",
          "text": [
            "<class 'pandas.core.frame.DataFrame'>\n",
            "RangeIndex: 2499 entries, 0 to 2498\n",
            "Data columns (total 12 columns):\n",
            " #   Column        Non-Null Count  Dtype  \n",
            "---  ------        --------------  -----  \n",
            " 0   price         2499 non-null   int64  \n",
            " 1   brand         2499 non-null   object \n",
            " 2   model         2499 non-null   object \n",
            " 3   year          2499 non-null   int64  \n",
            " 4   title_status  2499 non-null   object \n",
            " 5   mileage       2499 non-null   float64\n",
            " 6   color         2499 non-null   object \n",
            " 7   vin           2499 non-null   object \n",
            " 8   lot           2499 non-null   int64  \n",
            " 9   state         2499 non-null   object \n",
            " 10  country       2499 non-null   object \n",
            " 11  condition     2499 non-null   object \n",
            "dtypes: float64(1), int64(3), object(8)\n",
            "memory usage: 234.4+ KB\n"
          ],
          "name": "stdout"
        }
      ]
    },
    {
      "cell_type": "code",
      "metadata": {
        "colab": {
          "base_uri": "https://localhost:8080/"
        },
        "id": "5K7zmrYlBHMX",
        "outputId": "9c08e581-54e9-4478-9a09-8aef8611e489"
      },
      "source": [
        "#checking dimension of dataset\n",
        "\n",
        "data.shape"
      ],
      "execution_count": null,
      "outputs": [
        {
          "output_type": "execute_result",
          "data": {
            "text/plain": [
              "(2499, 12)"
            ]
          },
          "metadata": {
            "tags": []
          },
          "execution_count": 17
        }
      ]
    },
    {
      "cell_type": "code",
      "metadata": {
        "colab": {
          "base_uri": "https://localhost:8080/",
          "height": 282
        },
        "id": "L2uiVRZfBI4Y",
        "outputId": "91c60c8e-7621-4323-c550-a3f5e7fe802b"
      },
      "source": [
        "#importing library for visualizing dataset and plotting the  histogram for  price attributes\n",
        "\n",
        "import seaborn as sns\n",
        "\n",
        "data['price'].hist(grid = False)"
      ],
      "execution_count": null,
      "outputs": [
        {
          "output_type": "execute_result",
          "data": {
            "text/plain": [
              "<matplotlib.axes._subplots.AxesSubplot at 0x7f9089ae2ed0>"
            ]
          },
          "metadata": {
            "tags": []
          },
          "execution_count": 18
        },
        {
          "output_type": "display_data",
          "data": {
            "image/png": "[encoded data removed]",
            "text/plain": [
              "<Figure size 432x288 with 1 Axes>"
            ]
          },
          "metadata": {
            "tags": [],
            "needs_background": "light"
          }
        }
      ]
    },
    {
      "cell_type": "code",
      "metadata": {
        "colab": {
          "base_uri": "https://localhost:8080/"
        },
        "id": "ZT0wWjrFBOSx",
        "outputId": "3a1c1ac2-1003-4bed-ac7a-be8ae0182aa6"
      },
      "source": [
        "# Checking the skewness of Price column of dataset\n",
        "\n",
        "data['price'].skew()"
      ],
      "execution_count": null,
      "outputs": [
        {
          "output_type": "execute_result",
          "data": {
            "text/plain": [
              "0.9227307836499805"
            ]
          },
          "metadata": {
            "tags": []
          },
          "execution_count": 20
        }
      ]
    },
    {
      "cell_type": "code",
      "metadata": {
        "colab": {
          "base_uri": "https://localhost:8080/",
          "height": 308
        },
        "id": "FR4fQd-YBQC6",
        "outputId": "92a87044-cc07-4208-b8a0-9b9b6b39925c"
      },
      "source": [
        "#density plot\n",
        "\n",
        "sns.distplot(data['price'], hist = True)"
      ],
      "execution_count": null,
      "outputs": [
        {
          "output_type": "execute_result",
          "data": {
            "text/plain": [
              "<matplotlib.axes._subplots.AxesSubplot at 0x7f90891ae8d0>"
            ]
          },
          "metadata": {
            "tags": []
          },
          "execution_count": 22
        },
        {
          "output_type": "display_data",
          "data": {
            "image/png": "[encoded data removed]",
            "text/plain": [
              "<Figure size 432x288 with 1 Axes>"
            ]
          },
          "metadata": {
            "tags": [],
            "needs_background": "light"
          }
        }
      ]
    },
    {
      "cell_type": "markdown",
      "metadata": {
        "id": "LllhV5NLBYeC"
      },
      "source": [
        "Note: As we can see the skewed values lies between the 0.5 to 1 range. so, data is moderately skewed and right skewed(but it’s fine to train the model with it). Let’s explore another attribute."
      ]
    },
    {
      "cell_type": "code",
      "metadata": {
        "colab": {
          "base_uri": "https://localhost:8080/"
        },
        "id": "guiYpWymBVYS",
        "outputId": "e416ab69-3e7a-4438-e653-26f64909f6d3"
      },
      "source": [
        "# checking the skewness of mileage column of dataset\n",
        "\n",
        "data['mileage'].skew()"
      ],
      "execution_count": null,
      "outputs": [
        {
          "output_type": "execute_result",
          "data": {
            "text/plain": [
              "7.0793210165347915"
            ]
          },
          "metadata": {
            "tags": []
          },
          "execution_count": 23
        }
      ]
    },
    {
      "cell_type": "code",
      "metadata": {
        "colab": {
          "base_uri": "https://localhost:8080/",
          "height": 308
        },
        "id": "QnXjJSB0Be7o",
        "outputId": "b48310f9-d6d4-4f8c-9797-10f475fa6753"
      },
      "source": [
        "sns.distplot(data['mileage'], hist = True)"
      ],
      "execution_count": null,
      "outputs": [
        {
          "output_type": "execute_result",
          "data": {
            "text/plain": [
              "<matplotlib.axes._subplots.AxesSubplot at 0x7f90890d5410>"
            ]
          },
          "metadata": {
            "tags": []
          },
          "execution_count": 24
        },
        {
          "output_type": "display_data",
          "data": {
            "image/png": "[encoded data removed]",
            "text/plain": [
              "<Figure size 432x288 with 1 Axes>"
            ]
          },
          "metadata": {
            "tags": [],
            "needs_background": "light"
          }
        }
      ]
    },
    {
      "cell_type": "markdown",
      "metadata": {
        "id": "urmXZWBuBkQ4"
      },
      "source": [
        "Note: As we can see the skewed values lies between -1 and greater than +1 then our data is heavily skewed. so, data is heavily skewed. data[‘mileage’] is right-skewed by looking at the graph and skewed values."
      ]
    },
    {
      "cell_type": "markdown",
      "metadata": {
        "id": "VUQRRi8iBpZp"
      },
      "source": [
        "**How to handle these skewed data?**\n",
        "\n",
        "# Let's start with Right Skewness"
      ]
    },
    {
      "cell_type": "markdown",
      "metadata": {
        "id": "-ZVcm41PB8bE"
      },
      "source": [
        "#### Transformation"
      ]
    },
    {
      "cell_type": "markdown",
      "metadata": {
        "id": "J-3fmaBXCAXT"
      },
      "source": [
        "In data analysis transformation is the replacement of a variable by a function of that variable: for example, replacing a variable x by the square root of x or the logarithm of x. In a stronger sense, a transformation is a replacement that changes the shape of distribution or relationship."
      ]
    },
    {
      "cell_type": "markdown",
      "metadata": {
        "id": "gbkT2jE4CXPW"
      },
      "source": [
        "#### Log Transformation"
      ]
    },
    {
      "cell_type": "code",
      "metadata": {
        "colab": {
          "base_uri": "https://localhost:8080/"
        },
        "id": "QD_A_WHiBiGY",
        "outputId": "3f3531a4-de93-4827-9d7a-ba16257db655"
      },
      "source": [
        "#performing the log transformation using numpy\n",
        "\n",
        "log_mileage = np.log(data['mileage']) \n",
        "log_mileage.head(5)"
      ],
      "execution_count": null,
      "outputs": [
        {
          "output_type": "execute_result",
          "data": {
            "text/plain": [
              "0    12.521310\n",
              "1    12.157680\n",
              "2    10.586332\n",
              "3    11.068917\n",
              "4     8.802973\n",
              "Name: mileage, dtype: float64"
            ]
          },
          "metadata": {
            "tags": []
          },
          "execution_count": 27
        }
      ]
    },
    {
      "cell_type": "code",
      "metadata": {
        "colab": {
          "base_uri": "https://localhost:8080/"
        },
        "id": "ODZB0PBnCb0u",
        "outputId": "03aaf2c0-30ab-4d4a-ac4a-767372c7148e"
      },
      "source": [
        "#checking the skewness after the log-transformation\n",
        "\n",
        "log_mileage.skew()"
      ],
      "execution_count": null,
      "outputs": [
        {
          "output_type": "execute_result",
          "data": {
            "text/plain": [
              "nan"
            ]
          },
          "metadata": {
            "tags": []
          },
          "execution_count": 28
        }
      ]
    },
    {
      "cell_type": "markdown",
      "metadata": {
        "id": "gsmkilmdC-Eu"
      },
      "source": [
        "It’s giving us nan because there are some values as the zero. In log transformation, it deals with only the positive and negative numbers, not with zero. The log is the range in between (- infinity to infinity) but greater or less than zero. For better understanding you can check the log graph below:\n",
        "\n",
        "Note: If you are getting zeros inside the data, refer to root Transformation."
      ]
    },
    {
      "cell_type": "markdown",
      "metadata": {
        "id": "M3dGOMdGDGy9"
      },
      "source": [
        "#### Root Transformation"
      ]
    },
    {
      "cell_type": "markdown",
      "metadata": {
        "id": "YlysjpGSDMKM"
      },
      "source": [
        "The square root means x to x^(1/2) = sqrt(x), is a transformation with a moderate effect on distribution shape. it is weaker than the logarithm and the cube root.\n",
        "\n",
        "It is also used for reducing right skewness, and also has the advantage that it can be applied to zero values. Note that the square root of an area has the units of a length. It is commonly applied to counted data, especially if the values are mostly rather small."
      ]
    },
    {
      "cell_type": "markdown",
      "metadata": {
        "id": "b2a492cADNrJ"
      },
      "source": [
        "![image.png](data:image/png;base64,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)"
      ]
    },
    {
      "cell_type": "code",
      "metadata": {
        "id": "AB1Zz0f5CgcR"
      },
      "source": [
        "#calculating the square root for data[‘mileage’] column\n",
        "\n",
        "sqrt_mileage = np.sqrt(data['mileage'])"
      ],
      "execution_count": null,
      "outputs": []
    },
    {
      "cell_type": "code",
      "metadata": {
        "colab": {
          "base_uri": "https://localhost:8080/"
        },
        "id": "6RCkG1pRDRbu",
        "outputId": "167c365a-df16-4b83-ed06-a4b7b5e91f6d"
      },
      "source": [
        "sqrt_mileage.head(5)"
      ],
      "execution_count": null,
      "outputs": [
        {
          "output_type": "execute_result",
          "data": {
            "text/plain": [
              "0    523.561840\n",
              "1    436.522623\n",
              "2    198.972360\n",
              "3    253.270606\n",
              "4     81.572054\n",
              "Name: mileage, dtype: float64"
            ]
          },
          "metadata": {
            "tags": []
          },
          "execution_count": 30
        }
      ]
    },
    {
      "cell_type": "code",
      "metadata": {
        "colab": {
          "base_uri": "https://localhost:8080/"
        },
        "id": "QTzS1qS4DTxu",
        "outputId": "eaffa912-4b0f-4053-b45d-4e304cb769f7"
      },
      "source": [
        "#calculation skewness after calculating the square root & we can observe the change in the value of skewness\n",
        "\n",
        "sqrt_mileage.skew()"
      ],
      "execution_count": null,
      "outputs": [
        {
          "output_type": "execute_result",
          "data": {
            "text/plain": [
              "1.6676282633339148"
            ]
          },
          "metadata": {
            "tags": []
          },
          "execution_count": 31
        }
      ]
    },
    {
      "cell_type": "code",
      "metadata": {
        "colab": {
          "base_uri": "https://localhost:8080/",
          "height": 296
        },
        "id": "Eef7cPHNDVX7",
        "outputId": "3ef5c353-499b-409b-9e04-0d40cca767bc"
      },
      "source": [
        "#visualising by density plot\n",
        "\n",
        "sns.distplot(sqrt_mileage, hist = True)"
      ],
      "execution_count": null,
      "outputs": [
        {
          "output_type": "execute_result",
          "data": {
            "text/plain": [
              "<matplotlib.axes._subplots.AxesSubplot at 0x7f90890db290>"
            ]
          },
          "metadata": {
            "tags": []
          },
          "execution_count": 32
        },
        {
          "output_type": "display_data",
          "data": {
            "image/png": "[encoded data removed]",
            "text/plain": [
              "<Figure size 432x288 with 1 Axes>"
            ]
          },
          "metadata": {
            "tags": [],
            "needs_background": "light"
          }
        }
      ]
    },
    {
      "cell_type": "markdown",
      "metadata": {
        "id": "JGb0ehbBDZD0"
      },
      "source": [
        "Note: In the previous case, we got the nan because of zero, but the square root transformation has reduced the skewed values from 7.07 to 1.66. Which is nearer to zero compared to 7.07."
      ]
    },
    {
      "cell_type": "markdown",
      "metadata": {
        "id": "SX9Wk9OoDcIy"
      },
      "source": [
        "#### Cube Root Transformation"
      ]
    },
    {
      "cell_type": "markdown",
      "metadata": {
        "id": "GBWfc2kHDfKT"
      },
      "source": [
        "The cube root means x to x^(1/3). This is a fairly strong transformation with a substantial effect on distribution shape,\n",
        "\n",
        "It is weaker than the logarithm but stronger than the square root transformation.\n",
        "\n",
        "It is also used for reducing right skewness and has the advantage that it can be applied to zero and negative values. Note that the cube root of a volume has the units of a length. It is commonly applied to rainfall data."
      ]
    },
    {
      "cell_type": "code",
      "metadata": {
        "colab": {
          "base_uri": "https://localhost:8080/"
        },
        "id": "YObFsPqmDXFl",
        "outputId": "02009b5c-e92f-43a3-a260-520cf25f7b91"
      },
      "source": [
        "#calculating the cube root for the column\n",
        "\n",
        "cube_root_mileage = np.cbrt(data['mileage'])\n",
        "\n",
        "cube_root_mileage.head(5)"
      ],
      "execution_count": null,
      "outputs": [
        {
          "output_type": "execute_result",
          "data": {
            "text/plain": [
              "0    64.959896\n",
              "1    57.544590\n",
              "2    34.082269\n",
              "3    40.030394\n",
              "4    18.808793\n",
              "Name: mileage, dtype: float64"
            ]
          },
          "metadata": {
            "tags": []
          },
          "execution_count": 33
        }
      ]
    },
    {
      "cell_type": "code",
      "metadata": {
        "colab": {
          "base_uri": "https://localhost:8080/"
        },
        "id": "N9qAOD7eDl7l",
        "outputId": "0eed8b0d-104c-4846-b7d7-a4780fb50a9b"
      },
      "source": [
        "#calculation skewness after calculating the cube root\n",
        "\n",
        "cube_root_mileage.skew()"
      ],
      "execution_count": null,
      "outputs": [
        {
          "output_type": "execute_result",
          "data": {
            "text/plain": [
              "0.6866069687334176"
            ]
          },
          "metadata": {
            "tags": []
          },
          "execution_count": 34
        }
      ]
    },
    {
      "cell_type": "code",
      "metadata": {
        "colab": {
          "base_uri": "https://localhost:8080/",
          "height": 296
        },
        "id": "Mtn3rHBYDncT",
        "outputId": "a5c03634-cd67-43e5-e236-45991b28967f"
      },
      "source": [
        "#visualising by density plot\n",
        "\n",
        "sns.distplot(cube_root_mileage, hist = True)"
      ],
      "execution_count": null,
      "outputs": [
        {
          "output_type": "execute_result",
          "data": {
            "text/plain": [
              "<matplotlib.axes._subplots.AxesSubplot at 0x7f9088ea3190>"
            ]
          },
          "metadata": {
            "tags": []
          },
          "execution_count": 35
        },
        {
          "output_type": "display_data",
          "data": {
            "image/png": "[encoded data removed]",
            "text/plain": [
              "<Figure size 432x288 with 1 Axes>"
            ]
          },
          "metadata": {
            "tags": [],
            "needs_background": "light"
          }
        }
      ]
    },
    {
      "cell_type": "markdown",
      "metadata": {
        "id": "0XZwPX7bDr-h"
      },
      "source": [
        "#### Reciprocals Transformation"
      ]
    },
    {
      "cell_type": "markdown",
      "metadata": {
        "id": "EFSbGDNPDu6R"
      },
      "source": [
        "The reciprocal, x to 1/x, with its sibling the negative reciprocal, x to -1/x, is a very strong transformation with a drastic effect on distribution shape.\n",
        "\n",
        "It cannot be applied to zero values. Although it can be applied to negative values, it is not useful unless all values are positive.\n",
        "\n",
        "For Example: we might want to multiply or divide the results of taking the reciprocal by some constant, such as 100 or 1000, to get numbers that are easy to manage, but that it has no effect on skewness or linearity."
      ]
    },
    {
      "cell_type": "code",
      "metadata": {
        "colab": {
          "base_uri": "https://localhost:8080/"
        },
        "id": "nQk0DCZEDpKh",
        "outputId": "88ff1da5-347a-4ef2-dd25-a00400a1609a"
      },
      "source": [
        "#calculating the reciprocal for the column data[‘mileage’] column\n",
        "\n",
        "recipr_mileage = np.reciprocal(data['mileage'])\n",
        "\n",
        "recipr_mileage.head(5)"
      ],
      "execution_count": null,
      "outputs": [
        {
          "output_type": "execute_result",
          "data": {
            "text/plain": [
              "0    0.000004\n",
              "1    0.000005\n",
              "2    0.000025\n",
              "3    0.000016\n",
              "4    0.000150\n",
              "Name: mileage, dtype: float64"
            ]
          },
          "metadata": {
            "tags": []
          },
          "execution_count": 37
        }
      ]
    },
    {
      "cell_type": "code",
      "metadata": {
        "colab": {
          "base_uri": "https://localhost:8080/"
        },
        "id": "s9gRskdqD0ng",
        "outputId": "f43dee31-76b5-41ab-c205-8f97ca47ad32"
      },
      "source": [
        "recipr_mileage.skew()"
      ],
      "execution_count": null,
      "outputs": [
        {
          "output_type": "execute_result",
          "data": {
            "text/plain": [
              "nan"
            ]
          },
          "metadata": {
            "tags": []
          },
          "execution_count": 39
        }
      ]
    },
    {
      "cell_type": "markdown",
      "metadata": {
        "id": "MnwMmL2fD8_l"
      },
      "source": [
        "Note: It’s giving output as nan because there are some values as the zero. In reciprocal transformation, it’s good to deal with negative numbers, not with zero."
      ]
    },
    {
      "cell_type": "markdown",
      "metadata": {
        "id": "vftabLYEH9Q3"
      },
      "source": [
        "#### Left Skewness"
      ]
    },
    {
      "cell_type": "markdown",
      "metadata": {
        "id": "DuE2frliH_vS"
      },
      "source": [
        "let’s create small dataset & have alook on left skewness"
      ]
    },
    {
      "cell_type": "code",
      "metadata": {
        "colab": {
          "base_uri": "https://localhost:8080/",
          "height": 204
        },
        "id": "wQeVQ-ZJD3z1",
        "outputId": "e0ea2472-e33f-44fd-9a82-599ad4ef2abe"
      },
      "source": [
        "Data = [['sameer',10],['pankaj',20],['sam',30],['Hemant',48],['vivek',62],['ram',87],['suman', 93], ['anup',85],['mohit',60],['sandeep',75],['ajeet',84],\n",
        "['yash',90], ['sam', 99], ['deepak', 92],['vikas', 99],['rajiv',95],['sivam', 94],['akash', 89],['vinod',90],['Kundan',87],['Abhay',99]]\n",
        "\n",
        "#converting in dataframe\n",
        "\n",
        "df = pd.DataFrame(Data, columns=['Name', 'Marks'] )\n",
        "\n",
        "df.head(5)"
      ],
      "execution_count": null,
      "outputs": [
        {
          "output_type": "execute_result",
          "data": {
            "text/html": [
              "<div>\n",
              "<style scoped>\n",
              "    .dataframe tbody tr th:only-of-type {\n",
              "        vertical-align: middle;\n",
              "    }\n",
              "\n",
              "    .dataframe tbody tr th {\n",
              "        vertical-align: top;\n",
              "    }\n",
              "\n",
              "    .dataframe thead th {\n",
              "        text-align: right;\n",
              "    }\n",
              "</style>\n",
              "<table border=\"1\" class=\"dataframe\">\n",
              "  <thead>\n",
              "    <tr style=\"text-align: right;\">\n",
              "      <th></th>\n",
              "      <th>Name</th>\n",
              "      <th>Marks</th>\n",
              "    </tr>\n",
              "  </thead>\n",
              "  <tbody>\n",
              "    <tr>\n",
              "      <th>0</th>\n",
              "      <td>sameer</td>\n",
              "      <td>10</td>\n",
              "    </tr>\n",
              "    <tr>\n",
              "      <th>1</th>\n",
              "      <td>pankaj</td>\n",
              "      <td>20</td>\n",
              "    </tr>\n",
              "    <tr>\n",
              "      <th>2</th>\n",
              "      <td>sam</td>\n",
              "      <td>30</td>\n",
              "    </tr>\n",
              "    <tr>\n",
              "      <th>3</th>\n",
              "      <td>Hemant</td>\n",
              "      <td>48</td>\n",
              "    </tr>\n",
              "    <tr>\n",
              "      <th>4</th>\n",
              "      <td>vivek</td>\n",
              "      <td>62</td>\n",
              "    </tr>\n",
              "  </tbody>\n",
              "</table>\n",
              "</div>"
            ],
            "text/plain": [
              "     Name  Marks\n",
              "0  sameer     10\n",
              "1  pankaj     20\n",
              "2     sam     30\n",
              "3  Hemant     48\n",
              "4   vivek     62"
            ]
          },
          "metadata": {
            "tags": []
          },
          "execution_count": 42
        }
      ]
    },
    {
      "cell_type": "code",
      "metadata": {
        "colab": {
          "base_uri": "https://localhost:8080/",
          "height": 296
        },
        "id": "Pl_i0NkqIFEM",
        "outputId": "1e671c48-0e78-4552-fe6d-575aa0a873dd"
      },
      "source": [
        "#ploting the Density & histogram plot\n",
        "\n",
        "import seaborn as sns\n",
        "\n",
        "sns.distplot(df['Marks'], hist = True)"
      ],
      "execution_count": null,
      "outputs": [
        {
          "output_type": "execute_result",
          "data": {
            "text/plain": [
              "<matplotlib.axes._subplots.AxesSubplot at 0x7f9089309810>"
            ]
          },
          "metadata": {
            "tags": []
          },
          "execution_count": 44
        },
        {
          "output_type": "display_data",
          "data": {
            "image/png": "[encoded data removed]",
            "text/plain": [
              "<Figure size 432x288 with 1 Axes>"
            ]
          },
          "metadata": {
            "tags": [],
            "needs_background": "light"
          }
        }
      ]
    },
    {
      "cell_type": "code",
      "metadata": {
        "colab": {
          "base_uri": "https://localhost:8080/"
        },
        "id": "upkN_7xKIb77",
        "outputId": "b4fb3659-5882-4a81-8e91-022e41a0742c"
      },
      "source": [
        "#checking the skewness\n",
        "\n",
        "df['Marks'].skew()"
      ],
      "execution_count": null,
      "outputs": [
        {
          "output_type": "execute_result",
          "data": {
            "text/plain": [
              "-1.4076657771292151"
            ]
          },
          "metadata": {
            "tags": []
          },
          "execution_count": 45
        }
      ]
    },
    {
      "cell_type": "markdown",
      "metadata": {
        "id": "ao7-KtkCIjV1"
      },
      "source": [
        "Note: If the skewness is less than -1 and greater than +1 then our data is heavily skewed. Our data is left-skewed here; the skewed value is less than -1. Let’s try to make it symmetric."
      ]
    },
    {
      "cell_type": "markdown",
      "metadata": {
        "id": "6IWWjjYPIlGL"
      },
      "source": [
        "#### Squares Transformation"
      ]
    },
    {
      "cell_type": "markdown",
      "metadata": {
        "id": "5xDTS5lRIorT"
      },
      "source": [
        "The square, x to x^2, has a moderate effect on distribution shape and it could be used to reduce left skewness.\n",
        "\n",
        "Squaring usually makes sense only if the variable concerned is zero or positive, given that (-x)^2 and x^2 are identical."
      ]
    },
    {
      "cell_type": "code",
      "metadata": {
        "colab": {
          "base_uri": "https://localhost:8080/"
        },
        "id": "dyQqk2B-Igy2",
        "outputId": "9b54afbc-daa6-42b4-d19a-bbf873a72590"
      },
      "source": [
        "#calculating the square for the column df[‘Marks’]\n",
        "\n",
        "Square_marks = np.square(df['Marks'])\n",
        "\n",
        "Square_marks.head(5)"
      ],
      "execution_count": null,
      "outputs": [
        {
          "output_type": "execute_result",
          "data": {
            "text/plain": [
              "0     100\n",
              "1     400\n",
              "2     900\n",
              "3    2304\n",
              "4    3844\n",
              "Name: Marks, dtype: int64"
            ]
          },
          "metadata": {
            "tags": []
          },
          "execution_count": 48
        }
      ]
    },
    {
      "cell_type": "code",
      "metadata": {
        "colab": {
          "base_uri": "https://localhost:8080/"
        },
        "id": "V0uDabn1IoFg",
        "outputId": "df29a2f7-5fac-4d6b-9166-5423929c0c19"
      },
      "source": [
        "#checking the skewness\n",
        "\n",
        "Square_marks.skew()"
      ],
      "execution_count": null,
      "outputs": [
        {
          "output_type": "execute_result",
          "data": {
            "text/plain": [
              "-0.9341854225868288"
            ]
          },
          "metadata": {
            "tags": []
          },
          "execution_count": 49
        }
      ]
    },
    {
      "cell_type": "code",
      "metadata": {
        "colab": {
          "base_uri": "https://localhost:8080/",
          "height": 296
        },
        "id": "0c5wKn85IvJF",
        "outputId": "14a3e7a7-f808-40d7-a085-924675e6060f"
      },
      "source": [
        "#plotting the density and histogram plot\n",
        "\n",
        "sns.distplot(Square_marks, hist=True)"
      ],
      "execution_count": null,
      "outputs": [
        {
          "output_type": "execute_result",
          "data": {
            "text/plain": [
              "<matplotlib.axes._subplots.AxesSubplot at 0x7f9088d5fdd0>"
            ]
          },
          "metadata": {
            "tags": []
          },
          "execution_count": 50
        },
        {
          "output_type": "display_data",
          "data": {
            "image/png": "[encoded data removed]",
            "text/plain": [
              "<Figure size 432x288 with 1 Axes>"
            ]
          },
          "metadata": {
            "tags": [],
            "needs_background": "light"
          }
        }
      ]
    },
    {
      "cell_type": "markdown",
      "metadata": {
        "id": "Kh3qRv52IzZL"
      },
      "source": [
        "Note: After applying the square Transformation, we are getting the skewed value as 0.93. If the skewed value lies in between -1 to 0.5 then data is moderately skewed. Let’s try some other transformation."
      ]
    },
    {
      "cell_type": "markdown",
      "metadata": {
        "id": "TU1Hkj50I1L_"
      },
      "source": [
        "#### Cubes Transformation"
      ]
    },
    {
      "cell_type": "markdown",
      "metadata": {
        "id": "LmYQaPwmI24R"
      },
      "source": [
        "The cube, x to x³, has a better effect on distribution shape than squaring and it could be used to reduce left skewness."
      ]
    },
    {
      "cell_type": "code",
      "metadata": {
        "colab": {
          "base_uri": "https://localhost:8080/"
        },
        "id": "_bAkcXUOIwrC",
        "outputId": "23a25de9-29f6-4b01-b0fd-da85d44b8175"
      },
      "source": [
        "#calculating the Cubes for the column df[‘Marks’]\n",
        "\n",
        "cube_marks = np.power(df['Marks'], 3)\n",
        "\n",
        "cube_marks.head(10)"
      ],
      "execution_count": null,
      "outputs": [
        {
          "output_type": "execute_result",
          "data": {
            "text/plain": [
              "0      1000\n",
              "1      8000\n",
              "2     27000\n",
              "3    110592\n",
              "4    238328\n",
              "5    658503\n",
              "6    804357\n",
              "7    614125\n",
              "8    216000\n",
              "9    421875\n",
              "Name: Marks, dtype: int64"
            ]
          },
          "metadata": {
            "tags": []
          },
          "execution_count": 51
        }
      ]
    },
    {
      "cell_type": "code",
      "metadata": {
        "colab": {
          "base_uri": "https://localhost:8080/"
        },
        "id": "lVKFomAOI6fm",
        "outputId": "2b306230-3a5d-46d0-cdc9-fbc7195ded82"
      },
      "source": [
        "#calculating the skewness\n",
        "\n",
        "cube_marks.skew()"
      ],
      "execution_count": null,
      "outputs": [
        {
          "output_type": "execute_result",
          "data": {
            "text/plain": [
              "-0.6133662709032679"
            ]
          },
          "metadata": {
            "tags": []
          },
          "execution_count": 52
        }
      ]
    },
    {
      "cell_type": "code",
      "metadata": {
        "colab": {
          "base_uri": "https://localhost:8080/",
          "height": 308
        },
        "id": "ErzFvLwhI8Mv",
        "outputId": "b67f3c46-b684-4ba5-db28-6b0c8a0be367"
      },
      "source": [
        "#plotting the density and histogram plot\n",
        "\n",
        "sns.distplot(cube_marks, hist= True)"
      ],
      "execution_count": null,
      "outputs": [
        {
          "output_type": "execute_result",
          "data": {
            "text/plain": [
              "<matplotlib.axes._subplots.AxesSubplot at 0x7f9088cf3790>"
            ]
          },
          "metadata": {
            "tags": []
          },
          "execution_count": 53
        },
        {
          "output_type": "display_data",
          "data": {
            "image/png": "[encoded data removed]",
            "text/plain": [
              "<Figure size 432x288 with 1 Axes>"
            ]
          },
          "metadata": {
            "tags": [],
            "needs_background": "light"
          }
        }
      ]
    },
    {
      "cell_type": "markdown",
      "metadata": {
        "id": "z882nBh4JAS1"
      },
      "source": [
        "Note: After applying the cube transformation, the skewed value is -0.6 , and If the skewed value lies in between -1 to 0.5 then data is moderately skewed. Let’s try some other transformation."
      ]
    },
    {
      "cell_type": "markdown",
      "metadata": {
        "id": "NibqwhAvKSON"
      },
      "source": [
        "#### Higher Powers"
      ]
    },
    {
      "cell_type": "markdown",
      "metadata": {
        "id": "tOHl9Nj9JB0O"
      },
      "source": [
        "When simple transformation like square and cubes doesn’t reduce the skewness in the data distribution, we can use higher powers to transform to data. It is only useful in left skewness."
      ]
    },
    {
      "cell_type": "code",
      "metadata": {
        "colab": {
          "base_uri": "https://localhost:8080/"
        },
        "id": "3_wq7oKLI9bc",
        "outputId": "e51ac929-f563-4064-d05f-92aca2dd95a2"
      },
      "source": [
        "higher_power_4 = np.power(df['Marks'], 4)\n",
        "\n",
        "higher_power_4.head(5)"
      ],
      "execution_count": null,
      "outputs": [
        {
          "output_type": "execute_result",
          "data": {
            "text/plain": [
              "0       10000\n",
              "1      160000\n",
              "2      810000\n",
              "3     5308416\n",
              "4    14776336\n",
              "Name: Marks, dtype: int64"
            ]
          },
          "metadata": {
            "tags": []
          },
          "execution_count": 56
        }
      ]
    },
    {
      "cell_type": "code",
      "metadata": {
        "colab": {
          "base_uri": "https://localhost:8080/"
        },
        "id": "-P10-2HgKZWd",
        "outputId": "44ba6025-da23-4084-cb0f-ad3a339d5e26"
      },
      "source": [
        "#calculating the skewness\n",
        "\n",
        "higher_power_4.skew()"
      ],
      "execution_count": null,
      "outputs": [
        {
          "output_type": "execute_result",
          "data": {
            "text/plain": [
              "-0.3563776896040546"
            ]
          },
          "metadata": {
            "tags": []
          },
          "execution_count": 57
        }
      ]
    },
    {
      "cell_type": "code",
      "metadata": {
        "colab": {
          "base_uri": "https://localhost:8080/",
          "height": 308
        },
        "id": "M3qjwMISKdbi",
        "outputId": "851fc8b0-6072-4889-c130-b7f38f750803"
      },
      "source": [
        "#plotting the density and histogram\n",
        "\n",
        "sns.distplot(higher_power_4, hist = True)"
      ],
      "execution_count": null,
      "outputs": [
        {
          "output_type": "execute_result",
          "data": {
            "text/plain": [
              "<matplotlib.axes._subplots.AxesSubplot at 0x7f9088c5f690>"
            ]
          },
          "metadata": {
            "tags": []
          },
          "execution_count": 58
        },
        {
          "output_type": "display_data",
          "data": {
            "image/png": "[encoded data removed]",
            "text/plain": [
              "<Figure size 432x288 with 1 Axes>"
            ]
          },
          "metadata": {
            "tags": [],
            "needs_background": "light"
          }
        }
      ]
    },
    {
      "cell_type": "markdown",
      "metadata": {
        "id": "tTgKvrV3KhKS"
      },
      "source": [
        "Note: After applying the higher power (power = 4) the skewness is changed from -1.4 to -0.3. If the skewness is between -0.5 to +0.5 then we can say data is fairly symmetrical. So, finally, we have got the best result and we got the skew value as  -0.3.\n",
        "\n",
        "In case if we would not have got this skew value still after applying these many powers, we can increase the power to get a better result."
      ]
    },
    {
      "cell_type": "code",
      "metadata": {
        "colab": {
          "base_uri": "https://localhost:8080/"
        },
        "id": "w_QkxmFZKe5r",
        "outputId": "be993722-11fc-4887-bc5a-eb1ed839bd08"
      },
      "source": [
        "#applying the higher power(power = 5) and calculating the skewness\n",
        "\n",
        "higher_power_5 = np.power(df['Marks'], 5)\n",
        "\n",
        "higher_power_5.skew()"
      ],
      "execution_count": null,
      "outputs": [
        {
          "output_type": "execute_result",
          "data": {
            "text/plain": [
              "-0.12781688683710232"
            ]
          },
          "metadata": {
            "tags": []
          },
          "execution_count": 60
        }
      ]
    },
    {
      "cell_type": "code",
      "metadata": {
        "colab": {
          "base_uri": "https://localhost:8080/",
          "height": 308
        },
        "id": "pc0QcsqFKjDJ",
        "outputId": "a0c26dfa-bb46-4137-8283-139fc58edecb"
      },
      "source": [
        "#plotting the density and histogram\n",
        "\n",
        "sns.distplot(higher_power_5, hist = True)"
      ],
      "execution_count": null,
      "outputs": [
        {
          "output_type": "execute_result",
          "data": {
            "text/plain": [
              "<matplotlib.axes._subplots.AxesSubplot at 0x7f9088beb090>"
            ]
          },
          "metadata": {
            "tags": []
          },
          "execution_count": 61
        },
        {
          "output_type": "display_data",
          "data": {
            "image/png": "[encoded data removed]",
            "text/plain": [
              "<Figure size 432x288 with 1 Axes>"
            ]
          },
          "metadata": {
            "tags": [],
            "needs_background": "light"
          }
        }
      ]
    },
    {
      "cell_type": "code",
      "metadata": {
        "colab": {
          "base_uri": "https://localhost:8080/"
        },
        "id": "5Na0lDnCKlUg",
        "outputId": "b023a7dd-f92a-438b-9b7e-eb3df6fe35cb"
      },
      "source": [
        "#applying the higher power(power = 5) and calculating the skewness\n",
        "\n",
        "higher_power_6 = np.power(df['Marks'], 6)\n",
        "higher_power_6.skew()"
      ],
      "execution_count": null,
      "outputs": [
        {
          "output_type": "execute_result",
          "data": {
            "text/plain": [
              "0.08406219634567366"
            ]
          },
          "metadata": {
            "tags": []
          },
          "execution_count": 63
        }
      ]
    },
    {
      "cell_type": "code",
      "metadata": {
        "colab": {
          "base_uri": "https://localhost:8080/",
          "height": 308
        },
        "id": "c6ZWMrJSKm80",
        "outputId": "447ed9fe-3749-45e5-e7c5-c3c7a3d38030"
      },
      "source": [
        "#plotting the density and histogram\n",
        "\n",
        "sns.distplot(higher_power_6, hist= True)"
      ],
      "execution_count": null,
      "outputs": [
        {
          "output_type": "execute_result",
          "data": {
            "text/plain": [
              "<matplotlib.axes._subplots.AxesSubplot at 0x7f9088decb10>"
            ]
          },
          "metadata": {
            "tags": []
          },
          "execution_count": 64
        },
        {
          "output_type": "display_data",
          "data": {
            "image/png": "[encoded data removed]",
            "text/plain": [
              "<Figure size 432x288 with 1 Axes>"
            ]
          },
          "metadata": {
            "tags": [],
            "needs_background": "light"
          }
        }
      ]
    },
    {
      "cell_type": "markdown",
      "metadata": {
        "id": "6np-5gUDKsfH"
      },
      "source": [
        "Note: Finally, we have got the skewed value as 0.08 (almost 0), and we can see the data is not symmetrically distributed."
      ]
    },
    {
      "cell_type": "code",
      "metadata": {
        "id": "v6A_WK1-Kq1b"
      },
      "source": [
        ""
      ],
      "execution_count": null,
      "outputs": []
    }
  ]
}